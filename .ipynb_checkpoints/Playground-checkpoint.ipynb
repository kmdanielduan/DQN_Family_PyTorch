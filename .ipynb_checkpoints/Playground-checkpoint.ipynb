{
 "cells": [
  {
   "cell_type": "markdown",
   "metadata": {},
   "source": [
    "### Testing for OpenAI Gym Environment"
   ]
  },
  {
   "cell_type": "code",
   "execution_count": 22,
   "metadata": {},
   "outputs": [
    {
     "name": "stdout",
     "output_type": "stream",
     "text": [
      "[-0.02132805 -0.02181935 -0.04811757  0.04917312]\n",
      "ob:[ 0.06483439  0.76980627 -0.19069851 -1.38911335], next_ob:[ 0.08023052  0.57750209 -0.21848078 -1.16161236], reward:1.0\n",
      "Episode finished after 11 timesteps\n",
      "[0.04778069 0.04908237 0.0201432  0.01681026]\n",
      "ob:[0.06020735 0.01145122 0.20241192 0.86313094], next_ob:[0.06043637 0.20332764 0.21967454 0.64029575], reward:1.0\n",
      "Episode finished after 29 timesteps\n",
      "[0.02633773 0.0158568  0.03678764 0.04722235]\n",
      "ob:[ 0.01741107 -0.2058907   0.20838537  0.94583259], next_ob:[ 0.01329325 -0.40311722  0.22730202  1.2960951 ], reward:1.0\n",
      "Episode finished after 28 timesteps\n",
      "[ 0.03252175  0.00687352 -0.02535933  0.04228132]\n",
      "ob:[ 0.13069194  0.99418757 -0.18459691 -1.70340452], next_ob:[ 0.15057569  0.80160842 -0.218665   -1.47340737], reward:1.0\n",
      "Episode finished after 22 timesteps\n",
      "[ 0.03053348 -0.02448834 -0.04858908  0.02528341]\n",
      "ob:[-0.10606739  0.33115565  0.20673737  0.20729255], next_ob:[-0.09944428  0.1337697   0.21088322  0.55741547], reward:1.0\n",
      "Episode finished after 43 timesteps\n"
     ]
    }
   ],
   "source": [
    "import gym\n",
    "import copy\n",
    "\n",
    "env = gym.make('CartPole-v0')\n",
    "for i_episode in range(5):\n",
    "    observation = env.reset()\n",
    "    print(observation)\n",
    "    for t in range(100):\n",
    "        ren = env.render()\n",
    "        action = env.action_space.sample()\n",
    "        next_observation, reward, done, info = env.step(action)\n",
    "        \n",
    "        if done:\n",
    "            print('ob:{}, next_ob:{}, reward:{}'.format(observation,next_observation,reward))\n",
    "            print(\"Episode finished after {} timesteps\".format(t+1))\n",
    "            break\n",
    "        observation = copy.copy(next_observation)\n",
    "\n",
    "env.close()"
   ]
  },
  {
   "cell_type": "code",
   "execution_count": 6,
   "metadata": {},
   "outputs": [
    {
     "data": {
      "text/plain": [
       "True"
      ]
     },
     "execution_count": 6,
     "metadata": {},
     "output_type": "execute_result"
    }
   ],
   "source": [
    "ren"
   ]
  },
  {
   "cell_type": "code",
   "execution_count": 8,
   "metadata": {},
   "outputs": [],
   "source": [
    "import gym\n",
    "env = gym.make('CartPole-v0')"
   ]
  },
  {
   "cell_type": "code",
   "execution_count": 14,
   "metadata": {},
   "outputs": [
    {
     "name": "stdout",
     "output_type": "stream",
     "text": [
      "Discrete(2)\n",
      "Box(4,)\n",
      "[4.8000002e+00 3.4028235e+38 4.1887903e-01 3.4028235e+38]\n",
      "[-4.8000002e+00 -3.4028235e+38 -4.1887903e-01 -3.4028235e+38]\n"
     ]
    }
   ],
   "source": [
    "env = gym.make('CartPole-v0')   # 定义使用 gym 库中的那一个环境\n",
    "env = env.unwrapped # 不做这个会有很多限制\n",
    "\n",
    "print(env.action_space) # 查看这个环境中可用的 action 有多少个\n",
    "print(env.observation_space)    # 查看这个环境中可用的 state 的 observation 有多少个\n",
    "print(env.observation_space.high)   # 查看 observation 最高取值\n",
    "print(env.observation_space.low)    # 查看 observation 最低取值"
   ]
  },
  {
   "cell_type": "code",
   "execution_count": 24,
   "metadata": {},
   "outputs": [],
   "source": [
    "env.close()"
   ]
  },
  {
   "cell_type": "markdown",
   "metadata": {},
   "source": [
    "### input extraction"
   ]
  },
  {
   "cell_type": "code",
   "execution_count": 19,
   "metadata": {},
   "outputs": [
    {
     "name": "stdout",
     "output_type": "stream",
     "text": [
      "Discrete(3)\n",
      "Box(6,)\n",
      "[ 1.        1.        1.        1.       12.566371 28.274334]\n",
      "[ -1.        -1.        -1.        -1.       -12.566371 -28.274334]\n"
     ]
    }
   ],
   "source": [
    "import gym\n",
    "import copy\n",
    "import matplotlib.pyplot as plt\n",
    "import torch\n",
    "import torch.nn as nn\n",
    "import torch.optim as optim\n",
    "import torch.nn.functional as F\n",
    "import torchvision.transforms as T\n",
    "import numpy as np\n",
    "from PIL import Image\n",
    "\n",
    "device = torch.device('cuda:0' if torch.cuda.is_available() else 'cpu')\n",
    "\n",
    "\n",
    "env = gym.make('Acrobot-v1')\n",
    "print(env.action_space) # 查看这个环境中可用的 action 有多少个\n",
    "print(env.observation_space)    # 查看这个环境中可用的 state 的 observation 有多少个\n",
    "print(env.observation_space.high)   # 查看 observation 最高取值\n",
    "print(env.observation_space.low)    # 查看 observation 最低取值"
   ]
  },
  {
   "cell_type": "code",
   "execution_count": 32,
   "metadata": {},
   "outputs": [
    {
     "name": "stdout",
     "output_type": "stream",
     "text": [
      "<class 'torch.Tensor'> torch.Size([1, 1, 84, 84])\n",
      "<class 'torch.Tensor'> torch.Size([1, 1, 84, 84])\n"
     ]
    }
   ],
   "source": [
    "resize = T.Compose([T.ToPILImage(),\n",
    "                    T.Resize(84, interpolation=Image.CUBIC),\n",
    "                    T.Grayscale(num_output_channels=1),\n",
    "                    T.ToTensor()])\n",
    "\n",
    "def get_screen():\n",
    "    '''\n",
    "    return a resized screen (tensor) in (BCHW)\n",
    "    '''\n",
    "    # Returned screen is size (1000,1000,3), need to transpose to \n",
    "    # torch order (CHW)\n",
    "    screen = env.render(mode='rgb_array').transpose((2,0,1))\n",
    "    # print(type(screen), screen.shape)\n",
    "    screen = np.ascontiguousarray(screen, dtype=np.float32) / 255\n",
    "    screen = torch.from_numpy(screen)\n",
    "    \n",
    "    # Resize, and add a batch dimension (BCHW)\n",
    "    screen = resize(screen).unsqueeze(0).to(device)\n",
    "    print(type(screen), screen.shape)\n",
    "    return screen\n",
    "    \n",
    "    \n",
    "def show_screen(screen):\n",
    "    plt.figure()\n",
    "    plt.imshow(screen.cpu().squeeze(0).squeeze(0).numpy(),\n",
    "               interpolation='none')\n",
    "    plt.title('Example extracted screen')\n",
    "    plt.show()\n",
    "    \n",
    "    \n",
    "env.reset()\n",
    "screen1 = get_screen()\n",
    "\n",
    "for i in range(1):\n",
    "    action = env.action_space.sample()\n",
    "    _,_,_,_ = env.step(action)\n",
    "screen2 = get_screen()\n",
    "env.close()"
   ]
  },
  {
   "cell_type": "code",
   "execution_count": 33,
   "metadata": {},
   "outputs": [
    {
     "data": {
      "image/png": "[encoded data removed]",
      "text/plain": [
       "<Figure size 432x288 with 1 Axes>"
      ]
     },
     "metadata": {
      "needs_background": "light"
     },
     "output_type": "display_data"
    },
    {
     "data": {
      "image/png": "[encoded data removed]",
      "text/plain": [
       "<Figure size 432x288 with 1 Axes>"
      ]
     },
     "metadata": {
      "needs_background": "light"
     },
     "output_type": "display_data"
    },
    {
     "data": {
      "image/png": "[encoded data removed]",
      "text/plain": [
       "<Figure size 432x288 with 1 Axes>"
      ]
     },
     "metadata": {
      "needs_background": "light"
     },
     "output_type": "display_data"
    }
   ],
   "source": [
    "env.reset()\n",
    "\n",
    "show_screen(screen1)\n",
    "show_screen(screen2)\n",
    "\n",
    "diff = screen1 - screen2\n",
    "\n",
    "show_screen(diff)\n",
    "\n",
    "\n",
    "env.close()"
   ]
  },
  {
   "cell_type": "code",
   "execution_count": 15,
   "metadata": {},
   "outputs": [
    {
     "name": "stdout",
     "output_type": "stream",
     "text": [
      "ob:[ 0.75261216 -0.65846407  0.94468548  0.32797767  1.34220201 -3.23489943], next_ob:[ 0.92546345 -0.3788369   0.94068068 -0.33929317  1.86625067 -3.37856031], reward:-1.0\n",
      "Episode finished after 500 timesteps\n"
     ]
    }
   ],
   "source": [
    "# Returned screen requested by gym is 400x600x3, but is sometimes larger\n",
    "# such as 800x1200x3. Transpose it into torch order (CHW).\n",
    "env.reset()\n",
    "for i_episode in range(1):\n",
    "    env.reset()\n",
    "    \n",
    "    for t in range(500):\n",
    "        ren = env.render()\n",
    "        action = env.action_space.sample()\n",
    "        next_observation, reward, done, info = env.step(action)\n",
    "\n",
    "        if done:\n",
    "            print('ob:{}, next_ob:{}, reward:{}'.format(observation,next_observation,reward))\n",
    "            print(\"Episode finished after {} timesteps\".format(t+1))\n",
    "            break\n",
    "        observation = copy.copy(next_observation)\n",
    "\n",
    "env.close()"
   ]
  },
  {
   "cell_type": "markdown",
   "metadata": {},
   "source": [
    "### ReplayMemory"
   ]
  },
  {
   "cell_type": "code",
   "execution_count": null,
   "metadata": {},
   "outputs": [],
   "source": []
  }
 ],
 "metadata": {
  "kernelspec": {
   "display_name": "Python 2",
   "language": "python",
   "name": "python2"
  },
  "language_info": {
   "codemirror_mode": {
    "name": "ipython",
    "version": 3
   },
   "file_extension": ".py",
   "mimetype": "text/x-python",
   "name": "python",
   "nbconvert_exporter": "python",
   "pygments_lexer": "ipython3",
   "version": "3.7.1"
  }
 },
 "nbformat": 4,
 "nbformat_minor": 2
}
